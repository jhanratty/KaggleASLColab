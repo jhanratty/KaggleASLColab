{
  "nbformat": 4,
  "nbformat_minor": 0,
  "metadata": {
    "colab": {
      "provenance": [],
      "machine_shape": "hm"
    },
    "kernelspec": {
      "name": "python3",
      "display_name": "Python 3"
    },
    "language_info": {
      "name": "python"
    },
    "gpuClass": "premium"
  },
  "cells": [
    {
      "cell_type": "markdown",
      "source": [
        "# PREPROCESS DATA FOR MODELS\n",
        "Allow models to load pickle files to preserve memory"
      ],
      "metadata": {
        "id": "YrGYBNBX7LQa"
      }
    },
    {
      "cell_type": "code",
      "source": [
        "from google.colab import drive\n",
        "drive.mount('/content/drive')"
      ],
      "metadata": {
        "colab": {
          "base_uri": "https://localhost:8080/"
        },
        "id": "Pr45cYjhsA6K",
        "outputId": "fafb296b-5eee-4601-bbfa-0864f95bcb1d"
      },
      "execution_count": 1,
      "outputs": [
        {
          "output_type": "stream",
          "name": "stdout",
          "text": [
            "Mounted at /content/drive\n"
          ]
        }
      ]
    },
    {
      "cell_type": "code",
      "source": [
        "# Jupiter  MacOS\n",
        "# BASE_DIR = \"/Users/johnhanratty/Library/CloudStorage/OneDrive-Personal/IRMA_GIT/Kaggle_SignLanguage/asl-signs\"\n",
        "# WORKING_DIR = BASE_DIR\n",
        "# !pip install nb_black --quiet\n",
        "# %load_ext lab_black\n",
        "\n",
        "# Colab\n",
        "BASE_DIR = \"/content/asl-signs\"   #\"/content/drive/MyDrive/GaggleSignLang/asl-signs\"\n",
        "WORKING_DIR = \"/content/asl-work\"\n",
        "# !pip install nb_black --quiet\n",
        "# print('-----ok')\n",
        "# %load_ext nb_black\n",
        "\n",
        "# KAGGLE\n",
        "# BASE_DIR = \"/kaggle/input/asl-signs\"\n",
        "# WORKING_DIR = \"/kaggle/working/\"\n",
        "# !pip install nb_black --quiet --root-user-action=ignore\n",
        "# %load_ext lab_black\n",
        "\n",
        "import os\n",
        "import gc\n",
        "import shutil\n",
        "import time\n",
        "\n",
        "import json\n",
        "from tqdm import tqdm\n",
        "import numpy as np\n",
        "import pandas as pd\n",
        "\n",
        "import torch\n",
        "import torch.nn as nn\n",
        "import torch.nn.functional as F\n",
        "\n",
        "from torch.utils.data import Dataset, DataLoader\n",
        "from torchvision import transforms\n",
        "\n",
        "from sklearn.model_selection import train_test_split\n",
        "from sklearn.metrics import accuracy_score\n",
        "from sklearn.preprocessing import normalize\n",
        "\n",
        "import warnings\n",
        "warnings.filterwarnings(action='ignore')\n",
        "\n",
        "LANDMARK_FILES_DIR = f'{BASE_DIR}/train_landmark_files'\n",
        "TRAIN_FILE = f\"{BASE_DIR}/train.csv\"\n",
        "\n",
        "FRAMES_OUT = 64 #16 # 16\n",
        "PTS_IN_FRAME = 115\n",
        "DIMC = [0,1,2]\n",
        "DIMS = len(DIMC)\n",
        "\n",
        "  \n",
        "HANDIDX = {\"WRIST\":0, \"THUMB_CMC\":1, \"THUMB_MCP\":2,     \"THUMB_IP\":3,          \"THUMB_TIP\":4,\n",
        "        \"INDEX_FINGER_MCP\":5, \"INDEX_FINGER_PIP\":6,  \"INDEX_FINGER_DIP\":7,  \"INDEX_FINGER_TIP\":8,\n",
        "        \"MIDDLE_FINGER_MCP\":9,\"MIDDLE_FINGER_PIP\":10,\"MIDDLE_FINGER_DIP\":11,\"MIDDLE_FINGER_TIP\":12,\n",
        "        \"RING_FINGER_MCP\":13, \"RING_FINGER_PIP\":14,  \"RING_FINGER_DIP\":15,  \"RING_FINGER_TIP\":16,\n",
        "        \"PINKY_FINGER_MCP\":17,\"PINKY_FINGER_PIP\":18,  \"PINKY_FINGER_DIP\":19,\"PINKY_FINGER_TIP\":20}\n",
        "\n",
        "POSEIDX = {\"NOSE\":0,        \"LEFT_EYE_INNER\":1,\"LEFT_EYE\":2,   \"LEFT_EYE_OUTER\":3, \"RIGHT_EYE_INNER\":4, \"RIGHT_EYE\":5,      \"RIGHT_EYE_OUTER\":6,\n",
        "        \"LEFT_EAR\":7,    \"RIGHT_EAR\":8,     \"MOUTH_LEFT\":9, \"MOUTH_RIGHT\":10,   \"LEFT_SHOULDER\":11,  \"RIGHT_SHOULDER\":12,\n",
        "        \"LEFT_ELBOW\":13, \"RIGHT_ELBOW\":14,  \"LEFT_WRIST\":15, \"RIGHT_WRIST\":16, \n",
        "        \"LEFT_PINKY\":17, \"RIGHT_PINKY\":18,  \"LEFT_INDEX\":19,\"RIGHT_INDEX\":20,   \"RIGHT_THUMB\":21,    \"LEFT_THUMB\":22,\n",
        "        \"LEFT_HIP\":23,   \"RIGHT_HIP\":24,    \"LEFT_KNEE\":25, \"RIGHT_KNEE\":26,    \"LEFT_ANKLE\":27,     \"RIGHT_ANKLE\":28,\n",
        "        \"LEFT_HEEL\":29,  \"RIGHT_HEEL\":30,   \"LEFT_FOOT_INDEX\":31, \"RIGHT_FOOT_INDEX\":32}\n",
        "\n",
        "LIPSIDX = [61, 185, 40, 39, 37, 0, 267, 269, 270, 409, 291, 78, 191, 80, 81, 82, 13, 312, 311, 310, 415, 308, 95, 88, 178, 87, 14, 317, 402, 318, 324, 146, 91, 181, 84, 17, 314, 405, 321, 375]\n",
        "LIPSIDX_sm = [185, 39, 0,  269,  409,  78,  80,  82,  312,  310,  308,  88,  87,  317,  318,  146,  181,  17,  405, 375]\n",
        "\n",
        "\n",
        "# need to rerun parquet processing to grab data points\n",
        "#LIPSIDX1 = [12, 268,271,272,407, 293, 325,319,403,316,15,86,179,89,96,62, 183,42,41,38]\n",
        "\n",
        "METALEN = len(LIPSIDX) + len(POSEIDX) + 2 * len(HANDIDX)\n",
        "\n",
        "def PRIM_HAND(idx): return(40 + HANDIDX[idx])\n",
        "def POSE(idx):  return(40 + 21 + POSEIDX[idx])\n",
        "def SEC_HAND(idx):  return(40 + 21 + 33 + HANDIDX[idx])\n",
        "\n",
        "print(POSE(\"NOSE\"))\n",
        "print(SEC_HAND(\"WRIST\"))\n",
        "METALEN\n",
        "\n",
        "print('done')\n"
      ],
      "metadata": {
        "execution": {
          "iopub.status.busy": "2023-03-15T22:04:26.371365Z",
          "iopub.execute_input": "2023-03-15T22:04:26.372355Z",
          "iopub.status.idle": "2023-03-15T22:04:36.169556Z",
          "shell.execute_reply.started": "2023-03-15T22:04:26.372296Z",
          "shell.execute_reply": "2023-03-15T22:04:36.168229Z"
        },
        "trusted": true,
        "colab": {
          "base_uri": "https://localhost:8080/"
        },
        "id": "f3XL8evoqZP4",
        "outputId": "0f0d351b-3186-45ef-90ed-46cea6f882fd"
      },
      "execution_count": 2,
      "outputs": [
        {
          "output_type": "stream",
          "name": "stdout",
          "text": [
            "61\n",
            "94\n",
            "done\n"
          ]
        }
      ]
    },
    {
      "cell_type": "code",
      "source": [
        "# GET FEATURE FILES FROM GDRIVE \n",
        "# COLAB ONLY - MOVE FEATURE FILES TO WORKING DIRECTORY\n",
        "# \n",
        "import os\n",
        "import gc\n",
        "import shutil\n",
        "\n",
        "if os.getenv(\"COLAB_RELEASE_TAG\") and not os.path.exists(WORKING_DIR):\n",
        "  !mkdir '/content/asl-work'\n",
        "\n",
        "if os.getenv(\"COLAB_RELEASE_TAG\"):\n",
        "    shutil.copy(f\"/content/drive/MyDrive/GaggleSignLang/feature_data{FRAMES_OUT}.npy\", f\"{WORKING_DIR}\")\n",
        "    shutil.copy(f\"/content/drive/MyDrive/GaggleSignLang/feature_labels.npy\", f\"{WORKING_DIR}\")\n",
        "    shutil.copy(f\"/content/drive/MyDrive/GaggleSignLang/sign_to_prediction_index_map.json\", f\"{WORKING_DIR}\")\n",
        "\n"
      ],
      "metadata": {
        "id": "LYN0XSNKXd0d"
      },
      "execution_count": 3,
      "outputs": []
    },
    {
      "cell_type": "code",
      "source": [
        "# PREPOCESS-A  - FRAMES OUTPUT\n",
        "import psutil\n",
        "\n",
        "def preProc(MIRROR=True):\n",
        "  dx = np.load(f\"{WORKING_DIR}/feature_data{FRAMES_OUT}.npy\")\n",
        "  datay = np.load(f\"{WORKING_DIR}/feature_labels.npy\") \n",
        "\n",
        "  data_rows = dx.shape[0]\n",
        "\n",
        "  print(\"DX BASE\", dx.base)   #BASE1 ROOT READ FROM FILE\n",
        "  print(\"dx shape\", dx.shape)\n",
        "  # MAKE COPY OF DX1 input from file\n",
        "  dx = dx.reshape((data_rows, FRAMES_OUT, -1, 3))  # BASE 1\n",
        "  print(\"DX BASE\", dx.base[0,0,0]) \n",
        "\n",
        "  # DEFINE VIEW MATRICES \n",
        "  start_lips =  0\n",
        "  start_left =  PRIM_HAND(\"WRIST\")\n",
        "  start_pose =  POSE(\"NOSE\")\n",
        "  start_right = SEC_HAND(\"WRIST\")\n",
        "  end_right =   METALEN\n",
        "\n",
        "  lips_3d =   dx[:, :, 0:PRIM_HAND(\"WRIST\"), :]\n",
        "  lefth_3d =  dx[:, :, PRIM_HAND(\"WRIST\"):POSE(\"NOSE\"), :]\n",
        "  pose_3d =   dx[:, :, POSE(\"NOSE\"):SEC_HAND(\"WRIST\"),:]\n",
        "  righth_3d = dx[:, :, SEC_HAND(\"WRIST\"):METALEN, :]   # BASE1\n",
        "  print(\"BASE RIGHT\", righth_3d.base[0,0,0])\n",
        "\n",
        "  # Combind Componets to dx\n",
        "  dx=np.concatenate((lips_3d, lefth_3d, pose_3d, righth_3d), axis=2)  ## COPY\n",
        "  print(\"CONCATX BASE\", dx.base)  # BASE2 ROOT\n",
        "  \n",
        "  split_bar = '='*20\n",
        "  memory_info = psutil.virtual_memory()._asdict()\n",
        "  print(f\"{split_bar} Memory Usage {split_bar}\")\n",
        "  for k,v in memory_info.items():\n",
        "    print(k, v)\n",
        "\n",
        "  #MIRROR = False\n",
        "  if MIRROR: \n",
        "      # Mirror data on x-axis (max-value)\n",
        "      lips_m = lips_3d\n",
        "      lips_m[:,:,:,0] = np.nanmax(lips_3d[:,:,:,0]) - lips_3d[:,:,:,0]\n",
        "      left_m = lefth_3d\n",
        "      left_m[:,:,:,0] = np.nanmax(lefth_3d[:,:,:,0]) - lefth_3d[:,:,:,0]\n",
        "      pose_m = pose_3d\n",
        "      pose_m[:,:,:,0] = np.nanmax(pose_3d[:,:,:,0]) - pose_3d[:,:,:,0]\n",
        "      right_m = righth_3d\n",
        "      print(\"RIGHT_M BASE1\", right_m.base[0,0,0])\n",
        "      right_m[:,:,:,0] = np.nanmax(righth_3d[:,:,:,0]) - righth_3d[:,:,:,0]\n",
        "      print(\"RIGHT_M BASE2\", right_m.base[0,0,0])\n",
        "\n",
        "      # NOTE: reversed and swapped position of left_m and right_m \n",
        "      # so last slot is primary hand\n",
        "      datam = np.concatenate((lips_m, right_m, pose_m, left_m), axis=2)\n",
        "      print(\"DATAM\", datam.shape)\n",
        "\n",
        "      # find primary hand (Count NaNs)\n",
        "      #  -check whether lefth_3d OR righth_3d has more NaNs\n",
        "      cl = lefth_3d.reshape(lefth_3d.shape[0],-1)\n",
        "      cr = righth_3d.reshape(lefth_3d.shape[0],-1)\n",
        "      cc = np.isnan(cl).sum(axis=1) > np.isnan(cr).sum(axis=1)\n",
        "      dx[cc,:,:,:] = datam[cc,:,:,:]  # replace \n",
        "\n",
        "  memory_info = psutil.virtual_memory()._asdict()\n",
        "  print(f\"{split_bar} Memory Usage {split_bar}\")\n",
        "  for k,v in memory_info.items():\n",
        "    print(k, v)\n",
        "\n",
        "  # REPLACE NaNs\n",
        "  print('DX NANS FOR REPLACEMENT', np.isnan(dx).sum())\n",
        "  #dx = np.nan_to_num(dx, copy=False)\n",
        "\n",
        "  # SET 3D or 2D (SELECT dim columns)\n",
        "  print(dx.shape)\n",
        "  if DIMS !=3:\n",
        "    dx = datax[:,:,:,DIMC]\n",
        "\n",
        "  print(\"FINAL SHAPE\")\n",
        "  print(\"dx\", dx.shape)\n",
        "  print(\"datay\", datay.shape)\n",
        "  return(dx, datay)\n",
        "\n",
        "# FINAL SHAPE separate line for seq and feature\n",
        "\n",
        "\n"
      ],
      "metadata": {
        "id": "GNWN8LmKx_gw"
      },
      "execution_count": 4,
      "outputs": []
    },
    {
      "cell_type": "code",
      "source": [
        "from sklearn.decomposition import PCA\n",
        "\n",
        "\n",
        "def pca_convert(dx, COMPONENTS = 60):\n",
        "    dx = np.nan_to_num(dx, copy=False)\n",
        "    shp = dx.shape\n",
        "    pca_X = PCA(n_components=COMPONENTS, random_state=999) \n",
        "    pca_X.fit(dx.reshape(shp[0]*shp[1], -1))\n",
        "    dx = pca_X.transform(dx.reshape(shp[0]*shp[1],-1))\n",
        "    dx = dx.reshape(shp[0], shp[1], -1)\n",
        "    print(dx.shape,\"Components=\", COMPONENTS)\n",
        "    print(np.cumsum(pca_X.explained_variance_ratio_ *100))\n",
        "    return(dx)\n"
      ],
      "metadata": {
        "id": "pI_yqceFdDvm"
      },
      "execution_count": 5,
      "outputs": []
    },
    {
      "cell_type": "markdown",
      "source": [
        "## 3D with Mirrored Primary Hands\n",
        "47GB RAM  of 83.5GB"
      ],
      "metadata": {
        "id": "s1Hb9DmVFMdD"
      }
    },
    {
      "cell_type": "code",
      "execution_count": 8,
      "metadata": {
        "id": "M5q_gwQYcB-t",
        "colab": {
          "base_uri": "https://localhost:8080/",
          "height": 979
        },
        "outputId": "c501d606-b544-4fd3-b2d8-00d412afb679"
      },
      "outputs": [
        {
          "output_type": "stream",
          "name": "stdout",
          "text": [
            "DX BASE None\n",
            "dx shape (94477, 64, 345)\n",
            "DX BASE 0.4689520001411438\n",
            "BASE RIGHT 0.4689520001411438\n",
            "CONCATX BASE None\n",
            "==================== Memory Usage ====================\n",
            "total 89639665664\n",
            "available 36603068416\n",
            "percent 59.2\n",
            "used 52123246592\n",
            "free 2839818240\n",
            "active 1316683776\n",
            "inactive 84425502720\n",
            "buffers 353312768\n",
            "cached 34323288064\n",
            "shared 1495040\n",
            "slab 603914240\n",
            "RIGHT_M BASE1 0.5158617496490479\n",
            "RIGHT_M BASE2 0.5158617496490479\n",
            "DATAM (94477, 64, 115, 3)\n",
            "==================== Memory Usage ====================\n",
            "total 89639665664\n",
            "available 13785362432\n",
            "percent 84.6\n",
            "used 74939240448\n",
            "free 10736082944\n",
            "active 1316827136\n",
            "inactive 76644364288\n",
            "buffers 348946432\n",
            "cached 3615395840\n",
            "shared 1503232\n",
            "slab 454762496\n",
            "DX NANS FOR REPLACEMENT 1396975620\n",
            "(94477, 64, 115, 3)\n",
            "FINAL SHAPE\n",
            "dx (94477, 64, 115, 3)\n",
            "datay (94477,)\n",
            "(94477, 64, 90) Components= 90\n",
            "[79.05452167 92.71848969 95.39405354 96.64284371 97.68225876 98.46172909\n",
            " 98.85461573 99.07449185 99.27949411 99.43927504 99.53345624 99.60327188\n",
            " 99.67060959 99.72316946 99.77390622 99.80448245 99.82919376 99.85244117\n",
            " 99.87185903 99.89057417 99.90812926 99.91969697 99.92840077 99.9353774\n",
            " 99.94175868 99.94739542 99.9525548  99.95620805 99.95944791 99.96235147\n",
            " 99.96508535 99.96748975 99.96979858 99.97202301 99.97419463 99.97597226\n",
            " 99.97772788 99.97926226 99.980699   99.98189025 99.98305667 99.98419244\n",
            " 99.98517451 99.98612278 99.98693865 99.98768809 99.98831647 99.98889947\n",
            " 99.98944744 99.98997207 99.99046927 99.99092895 99.99134686 99.99175559\n",
            " 99.99214419 99.99249468 99.99284346 99.9931711  99.99348227 99.99378005\n",
            " 99.99407308 99.99435177 99.99462202 99.99488687 99.99513446 99.99536982\n",
            " 99.99559134 99.99580209 99.99599156 99.99616457 99.99633323 99.99649986\n",
            " 99.99664569 99.99679009 99.99692638 99.99706022 99.99719184 99.99731503\n",
            " 99.99742723 99.99753742 99.99764552 99.99775192 99.99785176 99.99794925\n",
            " 99.99804578 99.998138   99.99822556 99.99830964 99.99838842 99.9984645 ]\n"
          ]
        },
        {
          "output_type": "execute_result",
          "data": {
            "text/plain": [
              "'/content/drive/MyDrive/GaggleSignLang/feature_prep64.npy'"
            ],
            "application/vnd.google.colaboratory.intrinsic+json": {
              "type": "string"
            }
          },
          "metadata": {},
          "execution_count": 8
        }
      ],
      "source": [
        "#3D XYZ MIRROR PRIMARY  w/ PCA\n",
        "datax, datay = preProc()\n",
        "np.save(f\"{WORKING_DIR}/feature_prep64npca.npy\", datax)\n",
        "shutil.copy(f\"{WORKING_DIR}/feature_prep64npca.npy\", f\"/content/drive/MyDrive/GaggleSignLang/feature_prep64npca.npy\")\n",
        "\n",
        "datax = pca_convert(datax,90)\n",
        "np.save(f\"{WORKING_DIR}/feature_prep64.npy\", datax)\n",
        "shutil.copy(f\"{WORKING_DIR}/feature_prep64.npy\", f\"/content/drive/MyDrive/GaggleSignLang/feature_prep64.npy\")\n",
        "\n",
        "\n",
        "\n"
      ]
    },
    {
      "cell_type": "code",
      "source": [
        "#3D XYZ MIRROR PRIMARY NO PCA\n",
        "datax, datay = preProc()\n",
        "#datax = pca_convert(datax,90)\n",
        "np.save(f\"{WORKING_DIR}/feature_prep64npca.npy\", datax)\n",
        "shutil.copy(f\"{WORKING_DIR}/feature_prep64npca.npy\", f\"/content/drive/MyDrive/GaggleSignLang/feature_prep64npca.npy\")\n",
        "\n"
      ],
      "metadata": {
        "colab": {
          "base_uri": "https://localhost:8080/",
          "height": 694
        },
        "id": "fu4Yiv4SRNCv",
        "outputId": "aaf1b16c-832b-4482-f4e9-3b9709247b06"
      },
      "execution_count": 7,
      "outputs": [
        {
          "output_type": "stream",
          "name": "stdout",
          "text": [
            "DX BASE None\n",
            "dx shape (94477, 64, 345)\n",
            "DX BASE 0.4689520001411438\n",
            "BASE RIGHT 0.4689520001411438\n",
            "CONCATX BASE None\n",
            "==================== Memory Usage ====================\n",
            "total 89639665664\n",
            "available 36601905152\n",
            "percent 59.2\n",
            "used 52131414016\n",
            "free 2744803328\n",
            "active 1083670528\n",
            "inactive 84587139072\n",
            "buffers 356958208\n",
            "cached 34406490112\n",
            "shared 1490944\n",
            "slab 766672896\n",
            "RIGHT_M BASE1 0.5158617496490479\n",
            "RIGHT_M BASE2 0.5158617496490479\n",
            "DATAM (94477, 64, 115, 3)\n",
            "==================== Memory Usage ====================\n",
            "total 89639665664\n",
            "available 13776777216\n",
            "percent 84.6\n",
            "used 74952957952\n",
            "free 10917376000\n",
            "active 1070972928\n",
            "inactive 76675227648\n",
            "buffers 356417536\n",
            "cached 3412914176\n",
            "shared 1490944\n",
            "slab 475856896\n",
            "DX NANS FOR REPLACEMENT 1396975620\n",
            "(94477, 64, 115, 3)\n",
            "FINAL SHAPE\n",
            "dx (94477, 64, 115, 3)\n",
            "datay (94477,)\n"
          ]
        },
        {
          "output_type": "execute_result",
          "data": {
            "text/plain": [
              "'/content/drive/MyDrive/GaggleSignLang/feature_prep64npca.npy'"
            ],
            "application/vnd.google.colaboratory.intrinsic+json": {
              "type": "string"
            }
          },
          "metadata": {},
          "execution_count": 7
        }
      ]
    },
    {
      "cell_type": "markdown",
      "source": [
        "##NO MIRRORING 3D\n",
        "48GB Memory Used"
      ],
      "metadata": {
        "id": "xohXyhdSFUsY"
      }
    },
    {
      "cell_type": "code",
      "source": [
        "#3D XYZ ***NO MIRROR** PRIMARY\n",
        "datax, datay = preProc(False)\n",
        "datax = pca_convert(datax,90)\n",
        "np.save(f\"{WORKING_DIR}/feature_prep64nm.npy\", datax)\n",
        "shutil.copy(f\"{WORKING_DIR}/feature_prep64nm.npy\", f\"/content/drive/MyDrive/GaggleSignLang/feature_prep64nm.npy\")\n",
        "\n"
      ],
      "metadata": {
        "colab": {
          "base_uri": "https://localhost:8080/",
          "height": 926
        },
        "id": "AV4TyFZVbasw",
        "outputId": "f57a34b6-4353-4d17-b609-e3c6f93dad9d"
      },
      "execution_count": null,
      "outputs": [
        {
          "output_type": "stream",
          "name": "stdout",
          "text": [
            "DX BASE None\n",
            "dx shape (94477, 64, 345)\n",
            "DX BASE 0.4689520001411438\n",
            "BASE RIGHT 0.4689520001411438\n",
            "CONCATX BASE None\n",
            "==================== Memory Usage ====================\n",
            "total 89639657472\n",
            "available 53422448640\n",
            "percent 40.4\n",
            "used 35316645888\n",
            "free 11710361600\n",
            "active 1074544640\n",
            "inactive 75042029568\n",
            "buffers 363692032\n",
            "cached 42248957952\n",
            "shared 1429504\n",
            "slab 1431961600\n",
            "==================== Memory Usage ====================\n",
            "total 89639657472\n",
            "available 53422448640\n",
            "percent 40.4\n",
            "used 35316645888\n",
            "free 11710361600\n",
            "active 1074544640\n",
            "inactive 75042029568\n",
            "buffers 363692032\n",
            "cached 42248957952\n",
            "shared 1429504\n",
            "slab 1431961600\n",
            "DX NANS FOR REPLACEMENT 1396975620\n",
            "(94477, 64, 115, 3)\n",
            "FINAL SHAPE\n",
            "dx (94477, 64, 115, 3)\n",
            "datay (94477,)\n",
            "(94477, 64, 90) Components= 90\n",
            "[81.77506759 90.34655017 92.47916253 94.29823209 96.06392483 97.23677124\n",
            " 97.9647071  98.35995422 98.73353398 98.95890178 99.15904268 99.29888298\n",
            " 99.41306078 99.51905125 99.60400856 99.66167202 99.70726431 99.74307051\n",
            " 99.77232553 99.79605363 99.81802705 99.83859322 99.85601176 99.87292548\n",
            " 99.88633773 99.89919364 99.90734855 99.91464728 99.92069245 99.92597457\n",
            " 99.93069074 99.93508295 99.93903481 99.94263058 99.946062   99.94914614\n",
            " 99.95200471 99.95478015 99.95747722 99.95986099 99.9620957  99.96421893\n",
            " 99.96628903 99.96791395 99.96950638 99.97106182 99.97244006 99.97381324\n",
            " 99.97509346 99.97622248 99.97730968 99.97837702 99.97936813 99.98026879\n",
            " 99.98115222 99.98199936 99.98284192 99.98352626 99.98420186 99.98486684\n",
            " 99.98548081 99.98607406 99.98666635 99.98720811 99.98774934 99.98827755\n",
            " 99.98879258 99.98926456 99.98972835 99.99017311 99.99059033 99.99099095\n",
            " 99.99136599 99.99171301 99.99204099 99.99236301 99.99266184 99.99294661\n",
            " 99.99321367 99.99347295 99.99372201 99.99396223 99.99419657 99.99442816\n",
            " 99.9946453  99.99485142 99.99504591 99.99523546 99.99541897 99.99559422]\n"
          ]
        },
        {
          "output_type": "execute_result",
          "data": {
            "text/plain": [
              "'/content/drive/MyDrive/GaggleSignLang/feature_prep64nm.npy'"
            ],
            "application/vnd.google.colaboratory.intrinsic+json": {
              "type": "string"
            }
          },
          "metadata": {},
          "execution_count": 6
        }
      ]
    },
    {
      "cell_type": "markdown",
      "source": [
        "## 2D XY with Mirrored Primary Hand"
      ],
      "metadata": {
        "id": "KJQCYVQdFgB7"
      }
    },
    {
      "cell_type": "code",
      "source": [
        "# 2D xy MIRROR PRIMARY\n",
        "datax = datax, datay = preProc()\n",
        "datax = datax.reshape(datax.shape[0], datax.shape[1], -1, 3)\n",
        "datax = pca_convert(datax[:,:,:,[0,1]],70)\n",
        "np.save(f\"{WORKING_DIR}/feature_prep64xy.npy\", datax)\n",
        "shutil.copy(f\"{WORKING_DIR}/feature_prep64xy.npy\", f\"/content/drive/MyDrive/GaggleSignLang/feature_prep64xy.npy\")\n"
      ],
      "metadata": {
        "colab": {
          "base_uri": "https://localhost:8080/",
          "height": 926
        },
        "id": "ijj_8R9SyK-y",
        "outputId": "49ecc4ea-eb34-40d1-9d45-714ca4ad2f77"
      },
      "execution_count": null,
      "outputs": [
        {
          "output_type": "stream",
          "name": "stdout",
          "text": [
            "DX BASE None\n",
            "dx shape (94477, 64, 345)\n",
            "DX BASE 0.4689520001411438\n",
            "BASE RIGHT 0.4689520001411438\n",
            "CONCATX BASE None\n",
            "==================== Memory Usage ====================\n",
            "total 89639657472\n",
            "available 53707177984\n",
            "percent 40.1\n",
            "used 35029540864\n",
            "free 3132985344\n",
            "active 3721895936\n",
            "inactive 81275346944\n",
            "buffers 364232704\n",
            "cached 51112898560\n",
            "shared 1912832\n",
            "slab 1176195072\n",
            "RIGHT_M BASE1 0.5158617496490479\n",
            "RIGHT_M BASE2 0.5158617496490479\n",
            "DATAM (94477, 64, 115, 3)\n",
            "==================== Memory Usage ====================\n",
            "total 89639657472\n",
            "available 30875480064\n",
            "percent 65.6\n",
            "used 57861369856\n",
            "free 11843674112\n",
            "active 3724705792\n",
            "inactive 72935124992\n",
            "buffers 364089344\n",
            "cached 19570524160\n",
            "shared 1916928\n",
            "slab 761647104\n",
            "DX NANS FOR REPLACEMENT 1396975620\n",
            "(94477, 64, 115, 3)\n",
            "FINAL SHAPE\n",
            "dx (94477, 64, 115, 3)\n",
            "datay (94477,)\n",
            "(94477, 64, 70) Components= 70\n",
            "[82.35040149 95.4884134  98.74063235 99.02126732 99.2430226  99.42044468\n",
            " 99.56484751 99.67154414 99.7519021  99.81656173 99.85299175 99.88412712\n",
            " 99.9080423  99.92574966 99.9368323  99.94497113 99.95163789 99.95781987\n",
            " 99.96215943 99.96617432 99.96967053 99.97297433 99.97596938 99.97840707\n",
            " 99.98052588 99.9824873  99.98401826 99.98542659 99.98669787 99.98777839\n",
            " 99.98871006 99.98955693 99.99030437 99.99099017 99.99158862 99.99216844\n",
            " 99.99266012 99.9930849  99.99350176 99.99390313 99.99425839 99.99458705\n",
            " 99.99490377 99.99520426 99.99548738 99.99576759 99.99601161 99.99624053\n",
            " 99.99644682 99.99664616 99.99683946 99.99702012 99.99719483 99.99736254\n",
            " 99.99752123 99.99767039 99.99780945 99.99794396 99.99806888 99.99819123\n",
            " 99.99830573 99.99841371 99.99851524 99.99861283 99.99870012 99.9987868\n",
            " 99.99886355 99.99893592 99.99900811 99.99907478]\n"
          ]
        },
        {
          "output_type": "execute_result",
          "data": {
            "text/plain": [
              "'/content/drive/MyDrive/GaggleSignLang/feature_prep64xy.npy'"
            ],
            "application/vnd.google.colaboratory.intrinsic+json": {
              "type": "string"
            }
          },
          "metadata": {},
          "execution_count": 6
        }
      ]
    },
    {
      "cell_type": "markdown",
      "source": [
        "## 2D XZ Mirrored Primary Hand"
      ],
      "metadata": {
        "id": "fyI59A-HFsUj"
      }
    },
    {
      "cell_type": "code",
      "source": [
        "# 2D - XZ MIRROR PRIMARY\n",
        "datax, datay = preProc()\n",
        "datax = datax.reshape(datax.shape[0], datax.shape[1], -1, 3)\n",
        "datax = pca_convert(datax[:,:,:,[0,2]],70)\n",
        "np.save(f\"{WORKING_DIR}/feature_prep64xz.npy\", datax)\n",
        "shutil.copy(f\"{WORKING_DIR}/feature_prep64xz.npy\", f\"/content/drive/MyDrive/GaggleSignLang/feature_prep64xz.npy\")\n"
      ],
      "metadata": {
        "colab": {
          "base_uri": "https://localhost:8080/",
          "height": 926
        },
        "id": "6HiKIY0ycx6g",
        "outputId": "fb6ef29e-f4ba-4a77-a29c-edc40724eaeb"
      },
      "execution_count": null,
      "outputs": [
        {
          "output_type": "stream",
          "name": "stdout",
          "text": [
            "DX BASE None\n",
            "dx shape (94477, 64, 345)\n",
            "DX BASE 0.4689520001411438\n",
            "BASE RIGHT 0.4689520001411438\n",
            "CONCATX BASE None\n",
            "==================== Memory Usage ====================\n",
            "total 89639665664\n",
            "available 36379770880\n",
            "percent 59.4\n",
            "used 52335452160\n",
            "free 2489679872\n",
            "active 1665933312\n",
            "inactive 84534501376\n",
            "buffers 42024960\n",
            "cached 34772508672\n",
            "shared 1568768\n",
            "slab 576892928\n",
            "RIGHT_M BASE1 0.5158617496490479\n",
            "RIGHT_M BASE2 0.5158617496490479\n",
            "DATAM (94477, 64, 115, 3)\n",
            "==================== Memory Usage ====================\n",
            "total 89639665664\n",
            "available 13555564544\n",
            "percent 84.9\n",
            "used 75159949312\n",
            "free 10612334592\n",
            "active 1682935808\n",
            "inactive 76492365824\n",
            "buffers 38694912\n",
            "cached 3828686848\n",
            "shared 1568768\n",
            "slab 436346880\n",
            "DX NANS FOR REPLACEMENT 1396975620\n",
            "(94477, 64, 115, 3)\n",
            "FINAL SHAPE\n",
            "dx (94477, 64, 115, 3)\n",
            "datay (94477,)\n",
            "(94477, 64, 70) Components= 70\n",
            "[82.30743723 93.39722743 95.74271908 97.11634531 98.35042216 98.87268955\n",
            " 99.35083151 99.54768793 99.64565327 99.70770784 99.75020655 99.78569183\n",
            " 99.82012617 99.85183592 99.87783421 99.90270704 99.92027102 99.93460443\n",
            " 99.94355345 99.95151237 99.95684407 99.9616416  99.96578137 99.96926719\n",
            " 99.97252117 99.9750278  99.9774475  99.97955958 99.98139506 99.98311966\n",
            " 99.98463317 99.98599303 99.98708547 99.98803633 99.98895136 99.98981238\n",
            " 99.99059966 99.99129656 99.99193259 99.99251663 99.9930549  99.99349732\n",
            " 99.99392126 99.99433336 99.99472759 99.995104   99.99546617 99.99579143\n",
            " 99.9960964  99.99637069 99.99663537 99.99688097 99.99709507 99.99728667\n",
            " 99.99747151 99.99765422 99.99783093 99.99799063 99.99813846 99.99828271\n",
            " 99.99841051 99.99853269 99.99865075 99.99875904 99.99885579 99.99894526\n",
            " 99.9990319  99.99911329 99.99918692 99.99925398]\n"
          ]
        },
        {
          "output_type": "execute_result",
          "data": {
            "text/plain": [
              "'/content/drive/MyDrive/GaggleSignLang/feature_prep64xz.npy'"
            ],
            "application/vnd.google.colaboratory.intrinsic+json": {
              "type": "string"
            }
          },
          "metadata": {},
          "execution_count": 11
        }
      ]
    },
    {
      "cell_type": "code",
      "source": [
        "#datax = np.load(f\"/content/drive/MyDrive/GaggleSignLang/feature_prep64.npy\")\n",
        "dx = np.load(f\"{WORKING_DIR}/feature_data{FRAMES_OUT}.npy\")\n",
        "dy = np.load(f\"{WORKING_DIR}/feature_labels.npy\") "
      ],
      "metadata": {
        "id": "yjS3ls9KvmRg"
      },
      "execution_count": null,
      "outputs": []
    },
    {
      "cell_type": "markdown",
      "source": [
        "# Figure out #frames in videos"
      ],
      "metadata": {
        "id": "s1TvAa4X6xyJ"
      }
    },
    {
      "cell_type": "code",
      "source": [
        "dd = dx.reshape(dx.shape[0], dx.shape[1], -1, 3)[:,:,0,0]"
      ],
      "metadata": {
        "colab": {
          "base_uri": "https://localhost:8080/",
          "height": 169
        },
        "id": "P9EbUdTPrAX1",
        "outputId": "4453f7d2-a92a-4018-a626-5ea8a0add288"
      },
      "execution_count": null,
      "outputs": [
        {
          "output_type": "error",
          "ename": "NameError",
          "evalue": "ignored",
          "traceback": [
            "\u001b[0;31m---------------------------------------------------------------------------\u001b[0m",
            "\u001b[0;31mNameError\u001b[0m                                 Traceback (most recent call last)",
            "\u001b[0;32m<ipython-input-1-8923e4c52708>\u001b[0m in \u001b[0;36m<cell line: 1>\u001b[0;34m()\u001b[0m\n\u001b[0;32m----> 1\u001b[0;31m \u001b[0mdd\u001b[0m \u001b[0;34m=\u001b[0m \u001b[0mdx\u001b[0m\u001b[0;34m.\u001b[0m\u001b[0mreshape\u001b[0m\u001b[0;34m(\u001b[0m\u001b[0mdx\u001b[0m\u001b[0;34m.\u001b[0m\u001b[0mshape\u001b[0m\u001b[0;34m[\u001b[0m\u001b[0;36m0\u001b[0m\u001b[0;34m]\u001b[0m\u001b[0;34m,\u001b[0m \u001b[0mdx\u001b[0m\u001b[0;34m.\u001b[0m\u001b[0mshape\u001b[0m\u001b[0;34m[\u001b[0m\u001b[0;36m1\u001b[0m\u001b[0;34m]\u001b[0m\u001b[0;34m,\u001b[0m \u001b[0;34m-\u001b[0m\u001b[0;36m1\u001b[0m\u001b[0;34m,\u001b[0m \u001b[0;36m3\u001b[0m\u001b[0;34m)\u001b[0m\u001b[0;34m[\u001b[0m\u001b[0;34m:\u001b[0m\u001b[0;34m,\u001b[0m\u001b[0;34m:\u001b[0m\u001b[0;34m,\u001b[0m\u001b[0;36m0\u001b[0m\u001b[0;34m,\u001b[0m\u001b[0;36m0\u001b[0m\u001b[0;34m]\u001b[0m\u001b[0;34m\u001b[0m\u001b[0;34m\u001b[0m\u001b[0m\n\u001b[0m",
            "\u001b[0;31mNameError\u001b[0m: name 'dx' is not defined"
          ]
        }
      ]
    },
    {
      "cell_type": "code",
      "source": [
        "print(dx.shape)\n",
        "nan_ct = dx.reshape(dx.shape[0], dx.shape[1], -1, 3)[:,:,0,0]\n",
        "nan_ct = np.nansum(~np.isnan(nan_ct), axis=1)\n",
        "dss = pd.DataFrame({'truth':dy, 'nans':nan_ct})\n",
        "dss.head()"
      ],
      "metadata": {
        "colab": {
          "base_uri": "https://localhost:8080/",
          "height": 224
        },
        "id": "Tpy6VtfUvnuu",
        "outputId": "102450da-4e0a-4066-a12d-94b615850a5d"
      },
      "execution_count": null,
      "outputs": [
        {
          "output_type": "stream",
          "name": "stdout",
          "text": [
            "(94477, 64, 345)\n"
          ]
        },
        {
          "output_type": "execute_result",
          "data": {
            "text/plain": [
              "   truth  nans\n",
              "0   25.0    23\n",
              "1  232.0    11\n",
              "2   48.0    52\n",
              "3   23.0    12\n",
              "4  164.0    18"
            ],
            "text/html": [
              "\n",
              "  <div id=\"df-2b766bb8-8ce3-4c00-9ea7-d26a553cefbf\">\n",
              "    <div class=\"colab-df-container\">\n",
              "      <div>\n",
              "<style scoped>\n",
              "    .dataframe tbody tr th:only-of-type {\n",
              "        vertical-align: middle;\n",
              "    }\n",
              "\n",
              "    .dataframe tbody tr th {\n",
              "        vertical-align: top;\n",
              "    }\n",
              "\n",
              "    .dataframe thead th {\n",
              "        text-align: right;\n",
              "    }\n",
              "</style>\n",
              "<table border=\"1\" class=\"dataframe\">\n",
              "  <thead>\n",
              "    <tr style=\"text-align: right;\">\n",
              "      <th></th>\n",
              "      <th>truth</th>\n",
              "      <th>nans</th>\n",
              "    </tr>\n",
              "  </thead>\n",
              "  <tbody>\n",
              "    <tr>\n",
              "      <th>0</th>\n",
              "      <td>25.0</td>\n",
              "      <td>23</td>\n",
              "    </tr>\n",
              "    <tr>\n",
              "      <th>1</th>\n",
              "      <td>232.0</td>\n",
              "      <td>11</td>\n",
              "    </tr>\n",
              "    <tr>\n",
              "      <th>2</th>\n",
              "      <td>48.0</td>\n",
              "      <td>52</td>\n",
              "    </tr>\n",
              "    <tr>\n",
              "      <th>3</th>\n",
              "      <td>23.0</td>\n",
              "      <td>12</td>\n",
              "    </tr>\n",
              "    <tr>\n",
              "      <th>4</th>\n",
              "      <td>164.0</td>\n",
              "      <td>18</td>\n",
              "    </tr>\n",
              "  </tbody>\n",
              "</table>\n",
              "</div>\n",
              "      <button class=\"colab-df-convert\" onclick=\"convertToInteractive('df-2b766bb8-8ce3-4c00-9ea7-d26a553cefbf')\"\n",
              "              title=\"Convert this dataframe to an interactive table.\"\n",
              "              style=\"display:none;\">\n",
              "        \n",
              "  <svg xmlns=\"http://www.w3.org/2000/svg\" height=\"24px\"viewBox=\"0 0 24 24\"\n",
              "       width=\"24px\">\n",
              "    <path d=\"M0 0h24v24H0V0z\" fill=\"none\"/>\n",
              "    <path d=\"M18.56 5.44l.94 2.06.94-2.06 2.06-.94-2.06-.94-.94-2.06-.94 2.06-2.06.94zm-11 1L8.5 8.5l.94-2.06 2.06-.94-2.06-.94L8.5 2.5l-.94 2.06-2.06.94zm10 10l.94 2.06.94-2.06 2.06-.94-2.06-.94-.94-2.06-.94 2.06-2.06.94z\"/><path d=\"M17.41 7.96l-1.37-1.37c-.4-.4-.92-.59-1.43-.59-.52 0-1.04.2-1.43.59L10.3 9.45l-7.72 7.72c-.78.78-.78 2.05 0 2.83L4 21.41c.39.39.9.59 1.41.59.51 0 1.02-.2 1.41-.59l7.78-7.78 2.81-2.81c.8-.78.8-2.07 0-2.86zM5.41 20L4 18.59l7.72-7.72 1.47 1.35L5.41 20z\"/>\n",
              "  </svg>\n",
              "      </button>\n",
              "      \n",
              "  <style>\n",
              "    .colab-df-container {\n",
              "      display:flex;\n",
              "      flex-wrap:wrap;\n",
              "      gap: 12px;\n",
              "    }\n",
              "\n",
              "    .colab-df-convert {\n",
              "      background-color: #E8F0FE;\n",
              "      border: none;\n",
              "      border-radius: 50%;\n",
              "      cursor: pointer;\n",
              "      display: none;\n",
              "      fill: #1967D2;\n",
              "      height: 32px;\n",
              "      padding: 0 0 0 0;\n",
              "      width: 32px;\n",
              "    }\n",
              "\n",
              "    .colab-df-convert:hover {\n",
              "      background-color: #E2EBFA;\n",
              "      box-shadow: 0px 1px 2px rgba(60, 64, 67, 0.3), 0px 1px 3px 1px rgba(60, 64, 67, 0.15);\n",
              "      fill: #174EA6;\n",
              "    }\n",
              "\n",
              "    [theme=dark] .colab-df-convert {\n",
              "      background-color: #3B4455;\n",
              "      fill: #D2E3FC;\n",
              "    }\n",
              "\n",
              "    [theme=dark] .colab-df-convert:hover {\n",
              "      background-color: #434B5C;\n",
              "      box-shadow: 0px 1px 3px 1px rgba(0, 0, 0, 0.15);\n",
              "      filter: drop-shadow(0px 1px 2px rgba(0, 0, 0, 0.3));\n",
              "      fill: #FFFFFF;\n",
              "    }\n",
              "  </style>\n",
              "\n",
              "      <script>\n",
              "        const buttonEl =\n",
              "          document.querySelector('#df-2b766bb8-8ce3-4c00-9ea7-d26a553cefbf button.colab-df-convert');\n",
              "        buttonEl.style.display =\n",
              "          google.colab.kernel.accessAllowed ? 'block' : 'none';\n",
              "\n",
              "        async function convertToInteractive(key) {\n",
              "          const element = document.querySelector('#df-2b766bb8-8ce3-4c00-9ea7-d26a553cefbf');\n",
              "          const dataTable =\n",
              "            await google.colab.kernel.invokeFunction('convertToInteractive',\n",
              "                                                     [key], {});\n",
              "          if (!dataTable) return;\n",
              "\n",
              "          const docLinkHtml = 'Like what you see? Visit the ' +\n",
              "            '<a target=\"_blank\" href=https://colab.research.google.com/notebooks/data_table.ipynb>data table notebook</a>'\n",
              "            + ' to learn more about interactive tables.';\n",
              "          element.innerHTML = '';\n",
              "          dataTable['output_type'] = 'display_data';\n",
              "          await google.colab.output.renderOutput(dataTable, element);\n",
              "          const docLink = document.createElement('div');\n",
              "          docLink.innerHTML = docLinkHtml;\n",
              "          element.appendChild(docLink);\n",
              "        }\n",
              "      </script>\n",
              "    </div>\n",
              "  </div>\n",
              "  "
            ]
          },
          "metadata": {},
          "execution_count": 8
        }
      ]
    },
    {
      "cell_type": "code",
      "source": [
        "# LOAD POLYGON DATA - FRAMES\n",
        "import pickle\n",
        "\n",
        "with open(f\"/content/drive/MyDrive/GaggleSignLang/truth_nan.pkl\", 'wb') as handle:\n",
        "       pickle.dump(dss, handle)\n"
      ],
      "metadata": {
        "id": "J4zqzF5dKO59"
      },
      "execution_count": null,
      "outputs": []
    },
    {
      "cell_type": "code",
      "source": [
        "import matplotlib.pyplot as plt\n",
        "nan_ct.shape\n",
        "plt.hist(nan_ct, bins=10)"
      ],
      "metadata": {
        "colab": {
          "base_uri": "https://localhost:8080/",
          "height": 501
        },
        "id": "RT2ySMDa5N6y",
        "outputId": "563b8cf0-1d99-4dc5-d927-414156d249cc"
      },
      "execution_count": null,
      "outputs": [
        {
          "output_type": "execute_result",
          "data": {
            "text/plain": [
              "(array([12314., 12722., 16978., 11362.,  7846.,  6156.,  4244.,  4889.,\n",
              "         5016., 12950.]),\n",
              " array([ 0. ,  6.4, 12.8, 19.2, 25.6, 32. , 38.4, 44.8, 51.2, 57.6, 64. ]),\n",
              " <BarContainer object of 10 artists>)"
            ]
          },
          "metadata": {},
          "execution_count": 12
        },
        {
          "output_type": "display_data",
          "data": {
            "text/plain": [
              "<Figure size 640x480 with 1 Axes>"
            ],
            "image/png": "[encoded data removed]"
          },
          "metadata": {}
        }
      ]
    }
  ]
}